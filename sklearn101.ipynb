{
 "cells": [
  {
   "cell_type": "markdown",
   "metadata": {},
   "source": [
    "# Workflow excample on the Titanic Dataset \n",
    "\n"
   ]
  },
  {
   "cell_type": "markdown",
   "metadata": {},
   "source": [
    "## Data Dict\n",
    "\n",
    "**Variable**    Definition\tKey  \n",
    "**survival** \tSurvival\t0 = No, 1 = Yes  \n",
    "**pclass** \tTicket class\t1 = 1st, 2 = 2nd, 3 = 3rd  \n",
    "**sex** \t    Sex  \n",
    "**Age** \t    Age in years  \n",
    "**sibsp** \t    # of siblings / spouses aboard the Titanic  \n",
    "**parch** \t    # of parents / children aboard the Titanic  \n",
    "**ticket** \tTicket number  \n",
    "**fare**\t    Passenger fare  \n",
    "**cabin**\t    Cabin number  \n",
    "**embarked**\tPort of Embarkation\tC = Cherbourg, Q = Queenstown, S = Southampton  "
   ]
  },
  {
   "cell_type": "markdown",
   "metadata": {},
   "source": [
    "## 1.Data preprocessing\n",
    "\n",
    "In order to use machine learning, data needs to be preprocessed.  \n",
    "the first step is to get rid of useless columns   \n",
    "and the transformation of some columns into usable dtypes  "
   ]
  },
  {
   "cell_type": "code",
   "execution_count": 25,
   "metadata": {},
   "outputs": [
    {
     "name": "stdout",
     "output_type": "stream",
     "text": [
      "     Pclass     Sex   Age  SibSp  Parch     Fare Embarked Cabin_Categorie\n",
      "0         1  female  38.0      1      0  71.2833        C               C\n",
      "1         1  female  35.0      1      0  53.1000        S               C\n",
      "2         1    male  54.0      0      0  51.8625        S               E\n",
      "3         3  female   4.0      1      1  16.7000        S               G\n",
      "4         1  female  58.0      0      0  26.5500        S               C\n",
      "..      ...     ...   ...    ...    ...      ...      ...             ...\n",
      "178       1  female  47.0      1      1  52.5542        S               D\n",
      "179       1    male  33.0      0      0   5.0000        S               B\n",
      "180       1  female  56.0      0      1  83.1583        C               C\n",
      "181       1  female  19.0      0      0  30.0000        S               B\n",
      "182       1    male  26.0      0      0  30.0000        C               C\n",
      "\n",
      "[183 rows x 8 columns]\n"
     ]
    }
   ],
   "source": [
    "import pandas as pd\n",
    "pd.set_option('mode.chained_assignment',None) # get rid of copy warn....\n",
    "import numpy as np\n",
    "import matplotlib.pyplot as plt\n",
    "from sklearn.preprocessing import LabelEncoder\n",
    "import re\n",
    "\n",
    "\n",
    "def cnum_to_ccat(cnum: str)-> str:\n",
    "    x = re.search(\"[A-Za-z]\",cnum)\n",
    "    return cnum[x.start()]        \n",
    "    \n",
    "data = pd.read_csv(\"../ML_with_Python/data/titanic_train.csv\")\n",
    "x_data = data.dropna(axis = 0)\n",
    "y_lable = x_data[\"Survived\"]\n",
    "x_data[\"Cabin_Categorie\"] = x_data[\"Cabin\"].apply(cnum_to_ccat)\n",
    "x_data = x_data.drop([\"Name\",\"PassengerId\",\"Ticket\",\"Survived\",\"Cabin\"],axis=1)\n",
    "x_data.reset_index(drop=True,inplace = True)\n",
    "\n",
    "\n",
    "print(x_data)\n"
   ]
  },
  {
   "cell_type": "markdown",
   "metadata": {},
   "source": [
    "## 2.Encoding of categorial data\n",
    "\n",
    "machine learning cant process categorial data in from of strings.    \n",
    "its neccessary to encode strings.   \n",
    "eg: \"Sex\" := {\"female\",\"male\"} -> {0,1}"
   ]
  },
  {
   "cell_type": "code",
   "execution_count": 26,
   "metadata": {},
   "outputs": [
    {
     "name": "stdout",
     "output_type": "stream",
     "text": [
      "     Pclass  Sex   Age  SibSp  Parch     Fare  Embarked  Cabin_Categorie\n",
      "0         1    0  38.0      1      0  71.2833         0                2\n",
      "1         1    0  35.0      1      0  53.1000         2                2\n",
      "2         1    1  54.0      0      0  51.8625         2                4\n",
      "3         3    0   4.0      1      1  16.7000         2                6\n",
      "4         1    0  58.0      0      0  26.5500         2                2\n",
      "..      ...  ...   ...    ...    ...      ...       ...              ...\n",
      "178       1    0  47.0      1      1  52.5542         2                3\n",
      "179       1    1  33.0      0      0   5.0000         2                1\n",
      "180       1    0  56.0      0      1  83.1583         0                2\n",
      "181       1    0  19.0      0      0  30.0000         2                1\n",
      "182       1    1  26.0      0      0  30.0000         0                2\n",
      "\n",
      "[183 rows x 8 columns]\n"
     ]
    }
   ],
   "source": [
    "lbl_enc = LabelEncoder()\n",
    "\n",
    "data_sex = x_data[\"Sex\"]\n",
    "data_sex = lbl_enc.fit_transform(data_sex)\n",
    "x_data[\"Sex\"] = data_sex\n",
    "\n",
    "data_embarked = x_data[\"Embarked\"]\n",
    "data_embarked = lbl_enc.fit_transform(data_embarked)\n",
    "x_data[\"Embarked\"] = data_embarked\n",
    "\n",
    "data_cc = x_data[\"Cabin_Categorie\"]\n",
    "data_cc = lbl_enc.fit_transform(data_cc)\n",
    "x_data[\"Cabin_Categorie\"] = data_cc\n",
    "\n",
    "print(x_data)\n"
   ]
  }
 ],
 "metadata": {
  "kernelspec": {
   "display_name": "Python 3.11.0 64-bit",
   "language": "python",
   "name": "python3"
  },
  "language_info": {
   "codemirror_mode": {
    "name": "ipython",
    "version": 3
   },
   "file_extension": ".py",
   "mimetype": "text/x-python",
   "name": "python",
   "nbconvert_exporter": "python",
   "pygments_lexer": "ipython3",
   "version": "3.11.0"
  },
  "orig_nbformat": 4,
  "vscode": {
   "interpreter": {
    "hash": "b174bd9fb77e089961e8c9a8a79e92cbf3ce5181ef99d9a59dfc1b54b0714bb4"
   }
  }
 },
 "nbformat": 4,
 "nbformat_minor": 2
}
