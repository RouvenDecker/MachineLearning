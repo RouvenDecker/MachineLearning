{
 "cells": [
  {
   "cell_type": "markdown",
   "metadata": {},
   "source": [
    "# Simple Linear Regression with numpy"
   ]
  },
  {
   "cell_type": "code",
   "execution_count": 22,
   "metadata": {},
   "outputs": [],
   "source": [
    "import numpy as np\n",
    "import pandas as pd\n",
    "import matplotlib.pyplot as plt\n",
    "from pathlib import Path\n",
    "import math"
   ]
  },
  {
   "cell_type": "code",
   "execution_count": 23,
   "metadata": {},
   "outputs": [
    {
     "name": "stdout",
     "output_type": "stream",
     "text": [
      "[['1,3.888888889']\n",
      " ['2,4.555555556']\n",
      " ['3,5.222222222']\n",
      " ['4,5.888888889']\n",
      " ['5,6.555555556']]\n"
     ]
    }
   ],
   "source": [
    "\n",
    "# data from https://www.kaggle.com/datasets/tanuprabhu/linear-regression-dataset\n",
    "input = Path.cwd() / \"data\"/ \"Linear Regression - Sheet1.csv\"\n",
    "data = pd.read_csv(input,sep=\";\")\n",
    "data = data.to_numpy()\n",
    "print(data[0:5])"
   ]
  },
  {
   "cell_type": "markdown",
   "metadata": {},
   "source": [
    "## Split Data "
   ]
  },
  {
   "cell_type": "code",
   "execution_count": 24,
   "metadata": {},
   "outputs": [
    {
     "name": "stdout",
     "output_type": "stream",
     "text": [
      "300\n",
      "240\n",
      "30\n",
      "30\n"
     ]
    }
   ],
   "source": [
    "train_perc = 0.8\n",
    "test_perc = 0.1\n",
    "val_perc = 0.1\n",
    "\n",
    "train_size : int = math.floor(data.size * train_perc)\n",
    "test_size : int =  math.floor(data.size * test_perc)\n",
    "val_size : int = math.floor(data.size * val_perc)\n",
    "\n",
    "train_data = data[0:train_size]\n",
    "test_data = data[train_size: train_size + test_size]\n",
    "val_data = data[train_size + test_size::]\n",
    "\n",
    "print(data.size)\n",
    "\n",
    "print(train_data.size)\n",
    "print(test_data.size)\n",
    "print(val_data.size)\n"
   ]
  },
  {
   "cell_type": "code",
   "execution_count": null,
   "metadata": {},
   "outputs": [],
   "source": [
    "def reg(dataset : np.ndarray)-> np.ndarray:\n",
    "    pass"
   ]
  }
 ],
 "metadata": {
  "kernelspec": {
   "display_name": "Python 3.11.0 64-bit",
   "language": "python",
   "name": "python3"
  },
  "language_info": {
   "codemirror_mode": {
    "name": "ipython",
    "version": 3
   },
   "file_extension": ".py",
   "mimetype": "text/x-python",
   "name": "python",
   "nbconvert_exporter": "python",
   "pygments_lexer": "ipython3",
   "version": "3.11.0"
  },
  "orig_nbformat": 4,
  "vscode": {
   "interpreter": {
    "hash": "b174bd9fb77e089961e8c9a8a79e92cbf3ce5181ef99d9a59dfc1b54b0714bb4"
   }
  }
 },
 "nbformat": 4,
 "nbformat_minor": 2
}
