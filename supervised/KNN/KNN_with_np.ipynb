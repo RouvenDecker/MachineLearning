{
 "cells": [
  {
   "cell_type": "markdown",
   "metadata": {},
   "source": [
    "# KNN"
   ]
  },
  {
   "cell_type": "code",
   "execution_count": 444,
   "metadata": {},
   "outputs": [],
   "source": [
    "import numpy as np\n",
    "import pandas as pd\n",
    "import matplotlib.pyplot as plt\n",
    "\n",
    "def generate_Dataset()->tuple:\n",
    "    num_samples_class_1 = 13\n",
    "    num_samples_class_2 = 14\n",
    "    num_samples_class_3 = 9\n",
    "    cov = np.array(\n",
    "        [[0.1,0],\n",
    "        [0,0.1]]\n",
    "    )\n",
    "    data_1 = np.random.multivariate_normal(\n",
    "        mean= np.array([1,-3]),\n",
    "        cov = cov,\n",
    "        size = num_samples_class_1\n",
    "    )\n",
    "    data_2 = np.random.multivariate_normal(\n",
    "        mean= np.array([-1,-1]),\n",
    "        cov = cov,\n",
    "        size = num_samples_class_2\n",
    "    )\n",
    "    data_3 = np.random.multivariate_normal(\n",
    "        mean= np.array([1,1]),\n",
    "        cov = cov,\n",
    "        size = num_samples_class_3\n",
    "    )\n",
    "    class_1 = np.array([0 for i in range(num_samples_class_1)])\n",
    "    class_2 = np.array([1 for i in range(num_samples_class_2)])\n",
    "    class_3 = np.array([2 for i in range(num_samples_class_3)])\n",
    "    \n",
    "    classes = np.concatenate([class_1 , class_2 , class_3])\n",
    "    data = np.concatenate([data_1,data_2,data_3])\n",
    "    return data, classes"
   ]
  },
  {
   "cell_type": "code",
   "execution_count": 445,
   "metadata": {},
   "outputs": [
    {
     "name": "stdout",
     "output_type": "stream",
     "text": [
      "shape x: (36, 2) shape y: (36,)\n",
      "72\n",
      "x[3] = [ 1.13074057 -3.49063015] y[3]= 0\n"
     ]
    }
   ],
   "source": [
    "x , y = generate_Dataset()\n",
    "\n",
    "print(f\"shape x: {x.shape} shape y: {y.shape}\")\n",
    "print(x.size)\n",
    "\n",
    "print(f\"x[3] = {x[3]} y[3]= {y[3]}\")"
   ]
  },
  {
   "cell_type": "code",
   "execution_count": 446,
   "metadata": {},
   "outputs": [
    {
     "data": {
      "image/png": "[encoded data removed]",
      "text/plain": [
       "<Figure size 640x480 with 1 Axes>"
      ]
     },
     "metadata": {},
     "output_type": "display_data"
    }
   ],
   "source": [
    "\n",
    "def plot_Data(x:np.ndarray, y:np.ndarray)->None:\n",
    "    colors = [\"red\",\"blue\",\"green\"]\n",
    "    for p,c in zip(x,y):\n",
    "        plt.scatter(p[0],p[1], color = colors[c])\n",
    "    plt.show()\n",
    "    \n",
    "plot_Data(x,y)"
   ]
  },
  {
   "cell_type": "markdown",
   "metadata": {},
   "source": [
    "## KNN Implementation"
   ]
  },
  {
   "cell_type": "code",
   "execution_count": 447,
   "metadata": {},
   "outputs": [],
   "source": [
    "class KNeighborClassifier:\n",
    "    def __init__(self,k_neighbors = 5) -> None:\n",
    "        '''\n",
    "        initialize the classifier \n",
    "\n",
    "        Parameters\n",
    "        ----------\n",
    "        k_neighbors : int, optional\n",
    "            number of neighbors to use for classification, by default 5\n",
    "        '''\n",
    "        self.n_neighbors = k_neighbors\n",
    "        self.X: np.ndarray # Training set samples\n",
    "        self.y: np.ndarray  #Training set lables\n",
    "        self.num_classes : int # number of different lables\n",
    "        \n",
    "    def _distance(self,p1 :np.ndarray,p2 : np.ndarray) ->float:\n",
    "        '''\n",
    "        calculate the distance between two samples\n",
    "\n",
    "        Parameters\n",
    "        ----------\n",
    "        p1 : np.ndarray\n",
    "            sample 1\n",
    "        p2 : np.ndarray\n",
    "            sample 2\n",
    "\n",
    "        Returns\n",
    "        -------\n",
    "        float\n",
    "            _description_\n",
    "        '''\n",
    "        return np.linalg.norm(p2 - p1)\n",
    "        \n",
    "    def kneighbors(self,X: np.ndarray) -> np.ndarray:\n",
    "        '''\n",
    "        find the k nearest neigbors for the entire sample dataset X\n",
    "\n",
    "        Parameters\n",
    "        ----------\n",
    "        X : np.ndarray\n",
    "            all sample Data\n",
    "\n",
    "        Returns\n",
    "        -------\n",
    "        np.ndarray\n",
    "            indeceese of the k nearest Datapoints in the \n",
    "        '''\n",
    "        # calc the distance for each \"sample\" in X (data to classifie) to each already existing feature in self.X \n",
    "        distances = np.array([[self._distance(sample, X_i)for X_i in self.X] for sample in X])# shape (sample,x_i) \n",
    "        sorted_dist_idxs = np.argsort(distances,axis= 1) #sort along the distances \n",
    "        k_next_idxs = sorted_dist_idxs[:,0:self.n_neighbors] #select all samples with the k nearest indxs\n",
    "        return k_next_idxs\n",
    "    \n",
    "    def fit(self,X:np.ndarray,y:np.ndarray) -> None:\n",
    "        '''\n",
    "        initialize the trainDataSet\n",
    "\n",
    "        Parameters\n",
    "        ----------\n",
    "        X : np.ndarray\n",
    "            Training DataPoints\n",
    "        y : np.ndarray\n",
    "            Training Label\n",
    "        '''\n",
    "        self.X = X # already known feature Matrix \n",
    "        self.y = y # already known label Matrix\n",
    "        self.num_classes = len(np.unique(y))\n",
    "        \n",
    "        \n",
    "    def _voteclass(self,kneighbors_idxs :np.ndarray) -> np.ndarray:\n",
    "        '''\n",
    "        decide which class the Sample DataPoint depends to \n",
    "\n",
    "        Parameters\n",
    "        ----------\n",
    "        kneighbors_idxs : np.ndarray\n",
    "            indeceese of the k neares neighbors\n",
    "\n",
    "        Returns\n",
    "        -------\n",
    "        np.ndarray\n",
    "            the class of the Sample DataPoint\n",
    "        '''\n",
    "        votes = np.zeros(shape=self.num_classes)\n",
    "        neighbors_classes = self.y[kneighbors_idxs]\n",
    "        for neighbor_class in neighbors_classes:\n",
    "            votes[neighbor_class]+= 1\n",
    "        voted_class = np.argmax(votes)\n",
    "        return voted_class\n",
    "        \n",
    "    def pred(self,X:np.ndarray) -> np.ndarray:\n",
    "        '''\n",
    "        predict the lables of a Sample Dataset\n",
    "\n",
    "        Parameters\n",
    "        ----------\n",
    "        X : np.ndarray\n",
    "            Dataset\n",
    "\n",
    "        Returns\n",
    "        -------\n",
    "        np.ndarray\n",
    "            predicted class lables\n",
    "        '''\n",
    "        kneighbors_idxs = self.kneighbors(X)\n",
    "        y_pred = np.array([self._voteclass(kneighbor_idxs) for kneighbor_idxs in kneighbors_idxs ])#shape()\n",
    "        return y_pred\n",
    "        \n",
    "    #god/bad model\n",
    "    def score(self, X:np.ndarray, y: np.ndarray) -> float:\n",
    "        '''\n",
    "        check the accrucy of the classifier\n",
    "\n",
    "        Parameters\n",
    "        ----------\n",
    "        X : np.ndarray\n",
    "            Sample DataSet\n",
    "        y : np.ndarray\n",
    "            the real lable Dataset\n",
    "\n",
    "        Returns\n",
    "        -------\n",
    "        float\n",
    "            score value [0,1]\n",
    "        '''\n",
    "        y_pred = self.pred(X)\n",
    "        accuracy = np.mean(y_pred == y)\n",
    "        return accuracy"
   ]
  },
  {
   "cell_type": "code",
   "execution_count": 448,
   "metadata": {},
   "outputs": [
    {
     "name": "stdout",
     "output_type": "stream",
     "text": [
      "x_test:\n",
      "[[-1.5  1. ]\n",
      " [ 0.   0.4]]\n",
      "y_test:\n",
      "[1 2]\n",
      "y_pred: \n",
      "[1 2]\n",
      "score: \n",
      "1.0\n"
     ]
    }
   ],
   "source": [
    "x_test = np.array(\n",
    "    [[-1.5,1.0], \n",
    "     [0.0,0.4]]\n",
    ")\n",
    "y_test = np.array(\n",
    "    [1,2]\n",
    ")\n",
    "\n",
    "clf = KNeighborClassifier(k_neighbors=3)\n",
    "clf.fit(x,y)\n",
    "\n",
    "y_pred = clf.pred(x_test)\n",
    "score = clf.score(x_test,y_test)\n",
    "print(f'x_test:\\n{x_test}')\n",
    "print(f'y_test:\\n{y_test}')\n",
    "print(f'y_pred: \\n{y_pred}')\n",
    "print(f'score: \\n{score}')\n"
   ]
  },
  {
   "cell_type": "code",
   "execution_count": 449,
   "metadata": {},
   "outputs": [
    {
     "data": {
      "image/png": "[encoded data removed]",
      "text/plain": [
       "<Figure size 640x480 with 1 Axes>"
      ]
     },
     "metadata": {},
     "output_type": "display_data"
    }
   ],
   "source": [
    "\n",
    "def plot_KNN_prediction(clf:KNeighborClassifier,\n",
    "                        x_samples: np.ndarray,\n",
    "                        X: np.ndarray,\n",
    "                        y_pred:np.ndarray,\n",
    "                        y:np.ndarray)->None:\n",
    "    '''\n",
    "    plot the KNN prediction \n",
    "\n",
    "    Parameters\n",
    "    ----------\n",
    "    clf : KNeighborClassifier\n",
    "        Classifier to use\n",
    "    x_samples : np.ndarray\n",
    "        Sample DataPoints\n",
    "    X : np.ndarray\n",
    "        Train DataPoints\n",
    "    y : np.ndarray\n",
    "        Train DataLables\n",
    "    '''\n",
    "    colors = [\"red\",\"blue\",\"green\"]\n",
    "    #plot existing dataset \n",
    "    for index,point in enumerate(X):\n",
    "        plt.scatter(point[0],point[1], color = colors[y[index]])\n",
    "    \n",
    "    #classifie k nearest neighbors\n",
    "    neighbors_idxs = clf.kneighbors(x_samples)\n",
    "    \n",
    "    #plot \n",
    "    for index, point in enumerate(x_samples):\n",
    "        neighbors_points =clf.X[neighbors_idxs][index]\n",
    "        neighbors_classes = clf.y[neighbors_idxs]\n",
    "        neighbors_classes_i = neighbors_classes[index]\n",
    "        plt.scatter(point[0],point[1], color = colors[y_pred[index]],marker= '*',s = 100)\n",
    "        for neighbor_point, neighbor_class in zip(neighbors_points,neighbors_classes_i):\n",
    "            plt.plot((neighbor_point[0],\n",
    "                      point[0]),\n",
    "                     (neighbor_point[1],\n",
    "                      point[1]),\n",
    "                     color = colors[neighbor_class],)\n",
    "\n",
    "    plt.axis(\"equal\")\n",
    "    plt.show()\n",
    "    \n",
    "plot_KNN_prediction(clf, x_test, x,y_pred,y)"
   ]
  }
 ],
 "metadata": {
  "kernelspec": {
   "display_name": "Python 3.11.0 64-bit",
   "language": "python",
   "name": "python3"
  },
  "language_info": {
   "codemirror_mode": {
    "name": "ipython",
    "version": 3
   },
   "file_extension": ".py",
   "mimetype": "text/x-python",
   "name": "python",
   "nbconvert_exporter": "python",
   "pygments_lexer": "ipython3",
   "version": "3.11.0"
  },
  "orig_nbformat": 4,
  "vscode": {
   "interpreter": {
    "hash": "b174bd9fb77e089961e8c9a8a79e92cbf3ce5181ef99d9a59dfc1b54b0714bb4"
   }
  }
 },
 "nbformat": 4,
 "nbformat_minor": 2
}
